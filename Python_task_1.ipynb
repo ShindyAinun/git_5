{
  "nbformat": 4,
  "nbformat_minor": 0,
  "metadata": {
    "colab": {
      "provenance": [],
      "authorship_tag": "ABX9TyMGli1Cr8r5XR8YhmK2XOpV",
      "include_colab_link": true
    },
    "kernelspec": {
      "name": "python3",
      "display_name": "Python 3"
    },
    "language_info": {
      "name": "python"
    }
  },
  "cells": [
    {
      "cell_type": "markdown",
      "metadata": {
        "id": "view-in-github",
        "colab_type": "text"
      },
      "source": [
        "<a href=\"https://colab.research.google.com/github/ShindyAinun/midtest_shindy/blob/main/Python_task_1.ipynb\" target=\"_parent\"><img src=\"https://colab.research.google.com/assets/colab-badge.svg\" alt=\"Open In Colab\"/></a>"
      ]
    },
    {
      "cell_type": "markdown",
      "source": [],
      "metadata": {
        "id": "mo_5uzyzVPna"
      }
    },
    {
      "cell_type": "markdown",
      "source": [
        "#TASK 1\n",
        "Given a string filled with integers separated by comma. Create a new number, whose digits are the integers inside the string. Then, add 1 to the new number."
      ],
      "metadata": {
        "id": "2e8mW8b-VRtg"
      }
    },
    {
      "cell_type": "code",
      "source": [
        "input_str =  '1,5,1,9'\n"
      ],
      "metadata": {
        "id": "lE7fPI2IpswN"
      },
      "execution_count": null,
      "outputs": []
    },
    {
      "cell_type": "code",
      "source": [
        "angka = '1,5,2,0'\n",
        "angka_terubah = ','.join(str(int(x) + 0) for x in angka.split(','))\n",
        "print(angka_terubah)"
      ],
      "metadata": {
        "colab": {
          "base_uri": "https://localhost:8080/"
        },
        "id": "79HxKMI8tCuc",
        "outputId": "7e531304-d4b4-4342-c709-b0bb6c6e1069"
      },
      "execution_count": 47,
      "outputs": [
        {
          "output_type": "stream",
          "name": "stdout",
          "text": [
            "1,5,2,0\n"
          ]
        }
      ]
    }
  ]
}