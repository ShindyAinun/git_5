{
  "nbformat": 4,
  "nbformat_minor": 0,
  "metadata": {
    "colab": {
      "provenance": [],
      "authorship_tag": "ABX9TyMShxcVNqUupZTnkf9BnWhl",
      "include_colab_link": true
    },
    "kernelspec": {
      "name": "python3",
      "display_name": "Python 3"
    },
    "language_info": {
      "name": "python"
    }
  },
  "cells": [
    {
      "cell_type": "markdown",
      "metadata": {
        "id": "view-in-github",
        "colab_type": "text"
      },
      "source": [
        "<a href=\"https://colab.research.google.com/github/ShindyAinun/midtest_shindy/blob/main/python_task_2.ipynb\" target=\"_parent\"><img src=\"https://colab.research.google.com/assets/colab-badge.svg\" alt=\"Open In Colab\"/></a>"
      ]
    },
    {
      "cell_type": "code",
      "execution_count": 2,
      "metadata": {
        "id": "_P9xhKqzvuOk"
      },
      "outputs": [],
      "source": [
        "#input\n",
        "first_string :'abc'\n",
        "second_string : '312'"
      ]
    },
    {
      "cell_type": "code",
      "source": [
        "first_string = 'abc'\n",
        "second_string = '312'\n",
        "\n",
        "# Create a list to store characters\n",
        "decoded_list = [''] * len(first_string)\n",
        "\n",
        "# Fill in the characters at their specified positions\n",
        "for i, char in enumerate(second_string):\n",
        "    decoded_list[int(char) - 1] = first_string[i]\n",
        "\n",
        "# Convert the list to a string\n",
        "decoded_string = ''.join(decoded_list)\n",
        "\n",
        "print(decoded_string)"
      ],
      "metadata": {
        "colab": {
          "base_uri": "https://localhost:8080/"
        },
        "id": "8pq8Bojax4iO",
        "outputId": "2aed38e7-2228-4ab5-b7ad-f4c025d341d8"
      },
      "execution_count": 3,
      "outputs": [
        {
          "output_type": "stream",
          "name": "stdout",
          "text": [
            "bca\n"
          ]
        }
      ]
    }
  ]
}